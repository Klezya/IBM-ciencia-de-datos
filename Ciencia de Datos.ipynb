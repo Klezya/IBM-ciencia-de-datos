{
 "cells": [
  {
   "cell_type": "markdown",
   "metadata": {},
   "source": [
    "<center>\n",
    "    <img src=\"https://cf-courses-data.s3.us.cloud-object-storage.appdomain.cloud/IBMDeveloperSkillsNetwork-DS0105EN-SkillsNetwork/labs/Module2/images/SN_web_lightmode.png\" width=\"300\" alt=\"cognitiveclass.ai logo\">\n",
    "</center>\n"
   ]
  },
  {
   "cell_type": "markdown",
   "metadata": {},
   "source": [
    "# Proyecto Final: Ciencia de Datos"
   ]
  },
  {
   "cell_type": "markdown",
   "metadata": {},
   "source": [
    "## Introducción\n",
    "Este cuaderno tiene como objetivo explorar las herramientas, lenguajes y bibliotecas utilizados en la ciencia de datos. Además, se incluyen ejemplos prácticos de código y expresiones aritméticas."
   ]
  },
  {
   "cell_type": "markdown",
   "metadata": {},
   "source": [
    "## Lenguajes de la Ciencia de Datos\n",
    "1. Python\n",
    "2. R\n",
    "3. SQL\n",
    "4. Scala\n",
    "5. Julia"
   ]
  },
  {
   "cell_type": "markdown",
   "metadata": {},
   "source": [
    "## Bibliotecas de Ciencia de Datos\n",
    "- **Python**: Pandas, NumPy, Scikit-learn, Matplotlib, TensorFlow.\n",
    "- **R**: ggplot2, caret, dplyr, tidyr."
   ]
  },
  {
   "cell_type": "markdown",
   "metadata": {},
   "source": [
    "## Herramientas de Ciencia de Datos\n",
    "| Herramienta         | Uso Principal                     |\n",
    "|---------------------|-----------------------------------|\n",
    "| Jupyter Notebook    | Crear y compartir cuadernos       |\n",
    "| Apache Spark        | Procesamiento de big data         |\n",
    "| Tableau             | Visualización de datos            |\n",
    "| GitHub              | Control de versiones              |\n",
    "| TensorFlow          | Aprendizaje profundo              |"
   ]
  },
  {
   "cell_type": "markdown",
   "metadata": {},
   "source": [
    "## Expresiones Aritméticas\n",
    "\n",
    "- Suma: `5 + 3 = 8`\n",
    "- Multiplicación: `4 * 6 = 24`\n",
    "- División: `10 / 2 = 5`"
   ]
  },
  {
   "cell_type": "code",
   "execution_count": 4,
   "metadata": {},
   "outputs": [
    {
     "name": "stdout",
     "output_type": "stream",
     "text": [
      "El resultado es: 25\n"
     ]
    }
   ],
   "source": [
    "a = 5\n",
    "b = 3\n",
    "resultado = a * b + 10\n",
    "print(\"El resultado es:\", resultado)"
   ]
  },
  {
   "cell_type": "code",
   "execution_count": 5,
   "metadata": {},
   "outputs": [
    {
     "name": "stdout",
     "output_type": "stream",
     "text": [
      "150 minutos equivalen a 2.5 horas.\n"
     ]
    }
   ],
   "source": [
    "\n",
    "minutos = 150\n",
    "horas = minutos / 60\n",
    "print(f\"{minutos} minutos equivalen a {horas} horas.\")"
   ]
  },
  {
   "cell_type": "code",
   "execution_count": 6,
   "metadata": {},
   "outputs": [
    {
     "name": "stdout",
     "output_type": "stream",
     "text": [
      "- Explorar herramientas de ciencia de datos.\n",
      "- Practicar el uso de Jupyterlite Notebook.\n",
      "- Compartir el cuaderno a través de GitHub.\n"
     ]
    }
   ],
   "source": [
    "\n",
    "objetivos = [\n",
    "    \"Explorar herramientas de ciencia de datos.\",\n",
    "    \"Practicar el uso de Jupyterlite Notebook.\",\n",
    "    \"Compartir el cuaderno a través de GitHub.\"\n",
    "]\n",
    "for objetivo in objetivos:\n",
    "    print(\"-\", objetivo)"
   ]
  },
  {
   "cell_type": "markdown",
   "metadata": {},
   "source": [
    "## Autor\n",
    "Este cuaderno fue creado por Benjamin."
   ]
  },
  {
   "cell_type": "code",
   "execution_count": null,
   "metadata": {},
   "outputs": [],
   "source": []
  },
  {
   "cell_type": "code",
   "execution_count": null,
   "metadata": {},
   "outputs": [],
   "source": []
  },
  {
   "cell_type": "code",
   "execution_count": null,
   "metadata": {},
   "outputs": [],
   "source": []
  }
 ],
 "metadata": {
  "kernelspec": {
   "display_name": "Python 3 (ipykernel)",
   "language": "python",
   "name": "python3"
  },
  "language_info": {
   "codemirror_mode": {
    "name": "ipython",
    "version": 3
   },
   "file_extension": ".py",
   "mimetype": "text/x-python",
   "name": "python",
   "nbconvert_exporter": "python",
   "pygments_lexer": "ipython3",
   "version": "3.12.8"
  }
 },
 "nbformat": 4,
 "nbformat_minor": 4
}
